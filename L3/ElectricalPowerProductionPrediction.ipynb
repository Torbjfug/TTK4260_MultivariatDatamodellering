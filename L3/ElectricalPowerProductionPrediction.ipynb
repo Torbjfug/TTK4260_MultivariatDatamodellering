{
 "cells": [
  {
   "cell_type": "code",
   "execution_count": 24,
   "metadata": {},
   "outputs": [],
   "source": [
    "import pandas as pd\n",
    "import numpy as np\n",
    "import matplotlib.pyplot as plt"
   ]
  },
  {
   "cell_type": "code",
   "execution_count": 25,
   "metadata": {},
   "outputs": [],
   "source": [
    "x_path = '../../data/X.txt'\n",
    "y_path = '../../data/Y.txt'"
   ]
  },
  {
   "cell_type": "code",
   "execution_count": 26,
   "metadata": {},
   "outputs": [],
   "source": [
    "x=pd.read_csv(x_path,sep=';')\n",
    "y=pd.read_csv(y_path,sep=';')"
   ]
  },
  {
   "cell_type": "code",
   "execution_count": 27,
   "metadata": {},
   "outputs": [
    {
     "data": {
      "text/html": [
       "<div>\n",
       "<style scoped>\n",
       "    .dataframe tbody tr th:only-of-type {\n",
       "        vertical-align: middle;\n",
       "    }\n",
       "\n",
       "    .dataframe tbody tr th {\n",
       "        vertical-align: top;\n",
       "    }\n",
       "\n",
       "    .dataframe thead th {\n",
       "        text-align: right;\n",
       "    }\n",
       "</style>\n",
       "<table border=\"1\" class=\"dataframe\">\n",
       "  <thead>\n",
       "    <tr style=\"text-align: right;\">\n",
       "      <th></th>\n",
       "      <th>Year</th>\n",
       "      <th>IsDayBin</th>\n",
       "      <th>Month</th>\n",
       "      <th>WindSpeed</th>\n",
       "      <th>IrrDirect</th>\n",
       "      <th>IrrDiffuse</th>\n",
       "      <th>Temperature</th>\n",
       "      <th>Percipitation</th>\n",
       "      <th>SnowFlow</th>\n",
       "      <th>SnowMass</th>\n",
       "      <th>AirDensity</th>\n",
       "      <th>RadSurface</th>\n",
       "      <th>RadTop</th>\n",
       "      <th>CloudCover</th>\n",
       "    </tr>\n",
       "  </thead>\n",
       "  <tbody>\n",
       "    <tr>\n",
       "      <th>R1</th>\n",
       "      <td>2016</td>\n",
       "      <td>Night</td>\n",
       "      <td>1</td>\n",
       "      <td>5.777</td>\n",
       "      <td>0.0</td>\n",
       "      <td>0.0</td>\n",
       "      <td>-1.210</td>\n",
       "      <td>0.114</td>\n",
       "      <td>0.099</td>\n",
       "      <td>10.592</td>\n",
       "      <td>1.268</td>\n",
       "      <td>0.0</td>\n",
       "      <td>0.0</td>\n",
       "      <td>1.0</td>\n",
       "    </tr>\n",
       "    <tr>\n",
       "      <th>R2</th>\n",
       "      <td>2016</td>\n",
       "      <td>Night</td>\n",
       "      <td>1</td>\n",
       "      <td>5.887</td>\n",
       "      <td>0.0</td>\n",
       "      <td>0.0</td>\n",
       "      <td>-0.862</td>\n",
       "      <td>0.114</td>\n",
       "      <td>0.103</td>\n",
       "      <td>10.671</td>\n",
       "      <td>1.266</td>\n",
       "      <td>0.0</td>\n",
       "      <td>0.0</td>\n",
       "      <td>1.0</td>\n",
       "    </tr>\n",
       "    <tr>\n",
       "      <th>R3</th>\n",
       "      <td>2016</td>\n",
       "      <td>Night</td>\n",
       "      <td>1</td>\n",
       "      <td>5.957</td>\n",
       "      <td>0.0</td>\n",
       "      <td>0.0</td>\n",
       "      <td>-0.552</td>\n",
       "      <td>0.122</td>\n",
       "      <td>0.111</td>\n",
       "      <td>10.756</td>\n",
       "      <td>1.265</td>\n",
       "      <td>0.0</td>\n",
       "      <td>0.0</td>\n",
       "      <td>1.0</td>\n",
       "    </tr>\n",
       "    <tr>\n",
       "      <th>R4</th>\n",
       "      <td>2016</td>\n",
       "      <td>Night</td>\n",
       "      <td>1</td>\n",
       "      <td>6.025</td>\n",
       "      <td>0.0</td>\n",
       "      <td>0.0</td>\n",
       "      <td>-0.297</td>\n",
       "      <td>0.158</td>\n",
       "      <td>0.145</td>\n",
       "      <td>10.855</td>\n",
       "      <td>1.264</td>\n",
       "      <td>0.0</td>\n",
       "      <td>0.0</td>\n",
       "      <td>1.0</td>\n",
       "    </tr>\n",
       "    <tr>\n",
       "      <th>R5</th>\n",
       "      <td>2016</td>\n",
       "      <td>Night</td>\n",
       "      <td>1</td>\n",
       "      <td>6.101</td>\n",
       "      <td>0.0</td>\n",
       "      <td>0.0</td>\n",
       "      <td>-0.149</td>\n",
       "      <td>0.164</td>\n",
       "      <td>0.081</td>\n",
       "      <td>10.884</td>\n",
       "      <td>1.263</td>\n",
       "      <td>0.0</td>\n",
       "      <td>0.0</td>\n",
       "      <td>1.0</td>\n",
       "    </tr>\n",
       "  </tbody>\n",
       "</table>\n",
       "</div>"
      ],
      "text/plain": [
       "    Year IsDayBin  Month  WindSpeed  IrrDirect  IrrDiffuse  Temperature  \\\n",
       "R1  2016    Night      1      5.777        0.0         0.0       -1.210   \n",
       "R2  2016    Night      1      5.887        0.0         0.0       -0.862   \n",
       "R3  2016    Night      1      5.957        0.0         0.0       -0.552   \n",
       "R4  2016    Night      1      6.025        0.0         0.0       -0.297   \n",
       "R5  2016    Night      1      6.101        0.0         0.0       -0.149   \n",
       "\n",
       "    Percipitation  SnowFlow  SnowMass  AirDensity  RadSurface  RadTop  \\\n",
       "R1          0.114     0.099    10.592       1.268         0.0     0.0   \n",
       "R2          0.114     0.103    10.671       1.266         0.0     0.0   \n",
       "R3          0.122     0.111    10.756       1.265         0.0     0.0   \n",
       "R4          0.158     0.145    10.855       1.264         0.0     0.0   \n",
       "R5          0.164     0.081    10.884       1.263         0.0     0.0   \n",
       "\n",
       "    CloudCover  \n",
       "R1         1.0  \n",
       "R2         1.0  \n",
       "R3         1.0  \n",
       "R4         1.0  \n",
       "R5         1.0  "
      ]
     },
     "execution_count": 27,
     "metadata": {},
     "output_type": "execute_result"
    }
   ],
   "source": [
    "x.head()"
   ]
  },
  {
   "cell_type": "code",
   "execution_count": 28,
   "metadata": {},
   "outputs": [
    {
     "data": {
      "text/html": [
       "<div>\n",
       "<style scoped>\n",
       "    .dataframe tbody tr th:only-of-type {\n",
       "        vertical-align: middle;\n",
       "    }\n",
       "\n",
       "    .dataframe tbody tr th {\n",
       "        vertical-align: top;\n",
       "    }\n",
       "\n",
       "    .dataframe thead th {\n",
       "        text-align: right;\n",
       "    }\n",
       "</style>\n",
       "<table border=\"1\" class=\"dataframe\">\n",
       "  <thead>\n",
       "    <tr style=\"text-align: right;\">\n",
       "      <th></th>\n",
       "      <th>WindPower</th>\n",
       "      <th>PVPower</th>\n",
       "    </tr>\n",
       "  </thead>\n",
       "  <tbody>\n",
       "    <tr>\n",
       "      <th>R1</th>\n",
       "      <td>396.352</td>\n",
       "      <td>0.0</td>\n",
       "    </tr>\n",
       "    <tr>\n",
       "      <th>R2</th>\n",
       "      <td>417.778</td>\n",
       "      <td>0.0</td>\n",
       "    </tr>\n",
       "    <tr>\n",
       "      <th>R3</th>\n",
       "      <td>434.581</td>\n",
       "      <td>0.0</td>\n",
       "    </tr>\n",
       "    <tr>\n",
       "      <th>R4</th>\n",
       "      <td>448.482</td>\n",
       "      <td>0.0</td>\n",
       "    </tr>\n",
       "    <tr>\n",
       "      <th>R5</th>\n",
       "      <td>465.790</td>\n",
       "      <td>0.0</td>\n",
       "    </tr>\n",
       "  </tbody>\n",
       "</table>\n",
       "</div>"
      ],
      "text/plain": [
       "    WindPower  PVPower\n",
       "R1    396.352      0.0\n",
       "R2    417.778      0.0\n",
       "R3    434.581      0.0\n",
       "R4    448.482      0.0\n",
       "R5    465.790      0.0"
      ]
     },
     "execution_count": 28,
     "metadata": {},
     "output_type": "execute_result"
    }
   ],
   "source": [
    "y.head()"
   ]
  },
  {
   "cell_type": "code",
   "execution_count": 30,
   "metadata": {},
   "outputs": [
    {
     "data": {
      "image/png": "[encoded data removed]",
      "text/plain": [
       "<Figure size 1368x1080 with 2 Axes>"
      ]
     },
     "metadata": {
      "needs_background": "light"
     },
     "output_type": "display_data"
    }
   ],
   "source": [
    "f = plt.figure(figsize=(19, 15))\n",
    "plt.matshow(x.corr(), fignum=f.number)\n",
    "plt.xticks(range(x.shape[1]), x.columns, fontsize=14, rotation=45)\n",
    "plt.yticks(range(x.shape[1]), x.columns, fontsize=14)\n",
    "cb = plt.colorbar()\n",
    "cb.ax.tick_params(labelsize=14)"
   ]
  },
  {
   "cell_type": "code",
   "execution_count": 23,
   "metadata": {},
   "outputs": [
    {
     "data": {
      "text/plain": [
       "array(['Night', 'Day'], dtype=object)"
      ]
     },
     "execution_count": 23,
     "metadata": {},
     "output_type": "execute_result"
    }
   ],
   "source": [
    "x['IsDayBin'].unique()"
   ]
  },
  {
   "cell_type": "code",
   "execution_count": 6,
   "metadata": {},
   "outputs": [],
   "source": [
    "X=x.drop(['Year','IsDayBin','Month'],axis=1)\n",
    "Y=y.drop(['PVPower'],axis=1)"
   ]
  },
  {
   "cell_type": "code",
   "execution_count": 7,
   "metadata": {},
   "outputs": [
    {
     "data": {
      "text/html": [
       "<div>\n",
       "<style scoped>\n",
       "    .dataframe tbody tr th:only-of-type {\n",
       "        vertical-align: middle;\n",
       "    }\n",
       "\n",
       "    .dataframe tbody tr th {\n",
       "        vertical-align: top;\n",
       "    }\n",
       "\n",
       "    .dataframe thead th {\n",
       "        text-align: right;\n",
       "    }\n",
       "</style>\n",
       "<table border=\"1\" class=\"dataframe\">\n",
       "  <thead>\n",
       "    <tr style=\"text-align: right;\">\n",
       "      <th></th>\n",
       "      <th>WindSpeed</th>\n",
       "      <th>IrrDirect</th>\n",
       "      <th>IrrDiffuse</th>\n",
       "      <th>Temperature</th>\n",
       "      <th>Percipitation</th>\n",
       "      <th>SnowFlow</th>\n",
       "      <th>SnowMass</th>\n",
       "      <th>AirDensity</th>\n",
       "      <th>RadSurface</th>\n",
       "      <th>RadTop</th>\n",
       "      <th>CloudCover</th>\n",
       "    </tr>\n",
       "  </thead>\n",
       "  <tbody>\n",
       "    <tr>\n",
       "      <th>R1</th>\n",
       "      <td>5.777</td>\n",
       "      <td>0.0</td>\n",
       "      <td>0.0</td>\n",
       "      <td>-1.210</td>\n",
       "      <td>0.114</td>\n",
       "      <td>0.099</td>\n",
       "      <td>10.592</td>\n",
       "      <td>1.268</td>\n",
       "      <td>0.0</td>\n",
       "      <td>0.0</td>\n",
       "      <td>1.0</td>\n",
       "    </tr>\n",
       "    <tr>\n",
       "      <th>R2</th>\n",
       "      <td>5.887</td>\n",
       "      <td>0.0</td>\n",
       "      <td>0.0</td>\n",
       "      <td>-0.862</td>\n",
       "      <td>0.114</td>\n",
       "      <td>0.103</td>\n",
       "      <td>10.671</td>\n",
       "      <td>1.266</td>\n",
       "      <td>0.0</td>\n",
       "      <td>0.0</td>\n",
       "      <td>1.0</td>\n",
       "    </tr>\n",
       "    <tr>\n",
       "      <th>R3</th>\n",
       "      <td>5.957</td>\n",
       "      <td>0.0</td>\n",
       "      <td>0.0</td>\n",
       "      <td>-0.552</td>\n",
       "      <td>0.122</td>\n",
       "      <td>0.111</td>\n",
       "      <td>10.756</td>\n",
       "      <td>1.265</td>\n",
       "      <td>0.0</td>\n",
       "      <td>0.0</td>\n",
       "      <td>1.0</td>\n",
       "    </tr>\n",
       "    <tr>\n",
       "      <th>R4</th>\n",
       "      <td>6.025</td>\n",
       "      <td>0.0</td>\n",
       "      <td>0.0</td>\n",
       "      <td>-0.297</td>\n",
       "      <td>0.158</td>\n",
       "      <td>0.145</td>\n",
       "      <td>10.855</td>\n",
       "      <td>1.264</td>\n",
       "      <td>0.0</td>\n",
       "      <td>0.0</td>\n",
       "      <td>1.0</td>\n",
       "    </tr>\n",
       "    <tr>\n",
       "      <th>R5</th>\n",
       "      <td>6.101</td>\n",
       "      <td>0.0</td>\n",
       "      <td>0.0</td>\n",
       "      <td>-0.149</td>\n",
       "      <td>0.164</td>\n",
       "      <td>0.081</td>\n",
       "      <td>10.884</td>\n",
       "      <td>1.263</td>\n",
       "      <td>0.0</td>\n",
       "      <td>0.0</td>\n",
       "      <td>1.0</td>\n",
       "    </tr>\n",
       "  </tbody>\n",
       "</table>\n",
       "</div>"
      ],
      "text/plain": [
       "    WindSpeed  IrrDirect  IrrDiffuse  Temperature  Percipitation  SnowFlow  \\\n",
       "R1      5.777        0.0         0.0       -1.210          0.114     0.099   \n",
       "R2      5.887        0.0         0.0       -0.862          0.114     0.103   \n",
       "R3      5.957        0.0         0.0       -0.552          0.122     0.111   \n",
       "R4      6.025        0.0         0.0       -0.297          0.158     0.145   \n",
       "R5      6.101        0.0         0.0       -0.149          0.164     0.081   \n",
       "\n",
       "    SnowMass  AirDensity  RadSurface  RadTop  CloudCover  \n",
       "R1    10.592       1.268         0.0     0.0         1.0  \n",
       "R2    10.671       1.266         0.0     0.0         1.0  \n",
       "R3    10.756       1.265         0.0     0.0         1.0  \n",
       "R4    10.855       1.264         0.0     0.0         1.0  \n",
       "R5    10.884       1.263         0.0     0.0         1.0  "
      ]
     },
     "execution_count": 7,
     "metadata": {},
     "output_type": "execute_result"
    }
   ],
   "source": [
    "X.head()"
   ]
  },
  {
   "cell_type": "markdown",
   "metadata": {},
   "source": [
    "# Converting dataframes to numpy array "
   ]
  },
  {
   "cell_type": "code",
   "execution_count": 8,
   "metadata": {},
   "outputs": [],
   "source": [
    "X=X.values\n",
    "Y=Y.values"
   ]
  },
  {
   "cell_type": "markdown",
   "metadata": {},
   "source": [
    "# Split the dataset into training and test set"
   ]
  },
  {
   "cell_type": "code",
   "execution_count": 9,
   "metadata": {},
   "outputs": [],
   "source": [
    "from sklearn.model_selection import train_test_split\n",
    "X_train,X_test,Y_train,Y_test = train_test_split(X,Y,test_size=0.5,random_state=42)"
   ]
  },
  {
   "cell_type": "markdown",
   "metadata": {},
   "source": [
    "# INTRODUCTION\n",
    "Linear Regression is a supervised machine learning algorithm where the predicted output is continuous and has a constant slope. Is used to predict values within a continuous range. (e.g. sales, price) \n",
    "\n",
    "<b>Simple Regression:</b> Simple linear regression uses traditional slope-intercept form, where $m$ and $b$ are the variables our algorithm will try to “learn” to produce the most accurate predictions. $x$ represents our input data and $y$ represents our prediction.\n",
    "\n",
    "$$\\hat {y}=\\theta_{1}x+\\theta_{0}$$\n",
    "\n",
    "In order to compute the values of $m$ and $b$ we need to minimize a cost function. In the case of Linear Regression it is given by\n",
    "\n",
    "$$J(\\theta) = \\frac{1}{2m}\\sum_{i=i}^{m}(\\hat {y}_{i}-y_{i})^{2}$$"
   ]
  },
  {
   "cell_type": "markdown",
   "metadata": {},
   "source": [
    "<img src='./images/lr.jpg'>"
   ]
  },
  {
   "cell_type": "markdown",
   "metadata": {},
   "source": [
    "In multivariate regression we seek a set of parameters \n",
    "\n",
    "$$\\textbf{$\\Theta$} = [\\theta_{0} \\quad \\theta_{1} \\quad \\cdots \\quad \\theta_{i} \\quad \\cdots \\quad \\theta_{m}]^{T}$$\n",
    "               \n",
    "which minimizes the the cost function:\n",
    "Hypothesis \n",
    "$\\textbf{H}=\\textbf{X $\\Theta$}$\n",
    "\n",
    "Cost function is\n",
    "\n",
    "$$\\textbf{J($\\Theta$)}=\\frac{1}{2m}(\\textbf{X$\\Theta$} -\\textbf{Y})^{T}(\\textbf{X$\\Theta$} -\\textbf{Y})$$\n",
    "\n",
    "The advantages of Linear Regression are that they computationally efficient, simple and easy to interpret. However, the algorithm fails to capture non-linear behavior.\n"
   ]
  },
  {
   "cell_type": "markdown",
   "metadata": {},
   "source": [
    "# Use sklearn library to build a linear model"
   ]
  },
  {
   "cell_type": "code",
   "execution_count": 10,
   "metadata": {},
   "outputs": [
    {
     "name": "stdout",
     "output_type": "stream",
     "text": [
      "Theta calculated by SK-learn regression  [[ 1.95216975e+02  2.57690337e+01  3.61530091e+01 -6.90881131e-01\n",
      "   9.92253398e+00 -3.67636864e+00  4.32607036e-02 -1.93687169e+02\n",
      "  -4.63682848e-02  3.03297654e-02 -5.86988441e+00]]\n"
     ]
    }
   ],
   "source": [
    "from sklearn import linear_model\n",
    "lr = linear_model.LinearRegression()\n",
    "lr.fit(X_train,Y_train)\n",
    "print(\"Theta calculated by SK-learn regression \",lr.coef_)"
   ]
  },
  {
   "cell_type": "code",
   "execution_count": 11,
   "metadata": {},
   "outputs": [],
   "source": [
    "X_padded = np.column_stack((np.ones((len(X_train),1)), X_train))"
   ]
  },
  {
   "cell_type": "markdown",
   "metadata": {},
   "source": [
    "# Solution using Normal Equation"
   ]
  },
  {
   "cell_type": "markdown",
   "metadata": {},
   "source": [
    "$$\\theta=(X^{T}X)^{-1}X^{T}Y$$"
   ]
  },
  {
   "cell_type": "code",
   "execution_count": 12,
   "metadata": {},
   "outputs": [],
   "source": [
    "# Solve using direct method\n",
    "def normalEqn(X, y):  \n",
    "    theta = np.zeros((X.shape[1], 1))\n",
    "    theta = np.linalg.pinv(np.transpose(X).dot(X)).dot(np.transpose(X).dot(y))\n",
    "    return theta"
   ]
  },
  {
   "cell_type": "code",
   "execution_count": 13,
   "metadata": {},
   "outputs": [
    {
     "name": "stdout",
     "output_type": "stream",
     "text": [
      "Theta calculated by Normal Equation  [[-4.36947632e+02]\n",
      " [ 1.95216975e+02]\n",
      " [ 2.57690337e+01]\n",
      " [ 3.61530091e+01]\n",
      " [-6.90881129e-01]\n",
      " [ 9.92253398e+00]\n",
      " [-3.67636863e+00]\n",
      " [ 4.32607036e-02]\n",
      " [-1.93687168e+02]\n",
      " [-4.63682848e-02]\n",
      " [ 3.03297654e-02]\n",
      " [-5.86988441e+00]]\n"
     ]
    }
   ],
   "source": [
    "theta_Normal = normalEqn(X_padded, Y_train)\n",
    "print(\"Theta calculated by Normal Equation \",theta_Normal)"
   ]
  },
  {
   "cell_type": "markdown",
   "metadata": {},
   "source": [
    "# Cost Function involving multiple variables\n",
    "$$\\textbf{J($\\Theta$)}=\\frac{1}{2m}(\\textbf{X$\\Theta$} -\\textbf{Y})^{T}(\\textbf{X$\\Theta$} -\\textbf{Y})$$"
   ]
  },
  {
   "cell_type": "code",
   "execution_count": 14,
   "metadata": {},
   "outputs": [],
   "source": [
    "def computeCost(X,y,theta): \n",
    "  m=len(y)\n",
    "  Cost=0.0;\n",
    "  Cost=1.0/2.0/m*np.sum((X.dot(theta)-y)**2);\n",
    "  return Cost;"
   ]
  },
  {
   "cell_type": "markdown",
   "metadata": {},
   "source": [
    "# Batch Gradient Descent\n",
    "Minimize the loss function using gradient descent. \n",
    "<img src='./images/gd.jpg'>"
   ]
  },
  {
   "cell_type": "code",
   "execution_count": 15,
   "metadata": {},
   "outputs": [],
   "source": [
    "def gradientDescent(X, y, alpha, num_iters):\n",
    "    m,n = X.shape\n",
    "    theta = np.zeros((X.shape[1],1))\n",
    "    Cost_history = np.zeros((num_iters, 1))\n",
    "    for i in range(num_iters):\n",
    "        theta = theta - alpha*(1.0/m) * np.transpose(X).dot(X.dot(theta) - np.transpose([y]))    \n",
    "        Cost_history[i] = computeCost(X, y, theta)\n",
    "    return theta, Cost_history"
   ]
  },
  {
   "cell_type": "code",
   "execution_count": 16,
   "metadata": {},
   "outputs": [],
   "source": [
    "def SolveGradientDescent(X,y,alpha, num_iters):\n",
    "    m,n=X.shape\n",
    "    theta, Loss_history = gradientDescent(X, y, alpha, num_iters)\n",
    "    plt.plot(range(Loss_history.size), Loss_history, \"-b\", linewidth=2 )\n",
    "    plt.xlabel('Number of iterations')\n",
    "    plt.ylabel('Cost')\n",
    "    plt.show(block=False)\n",
    "    theta.shape\n",
    "    return theta"
   ]
  },
  {
   "cell_type": "code",
   "execution_count": 17,
   "metadata": {},
   "outputs": [
    {
     "name": "stderr",
     "output_type": "stream",
     "text": [
      "/Users/adil/anaconda3/lib/python3.7/site-packages/numpy/core/fromnumeric.py:83: RuntimeWarning: overflow encountered in reduce\n",
      "  return ufunc.reduce(obj, axis, dtype, out, **passkwargs)\n",
      "/Users/adil/anaconda3/lib/python3.7/site-packages/ipykernel_launcher.py:4: RuntimeWarning: overflow encountered in square\n",
      "  after removing the cwd from sys.path.\n"
     ]
    },
    {
     "data": {
      "image/png": "[encoded data removed]",
      "text/plain": [
       "<Figure size 432x288 with 1 Axes>"
      ]
     },
     "metadata": {
      "needs_background": "light"
     },
     "output_type": "display_data"
    }
   ],
   "source": [
    "theta_GD=SolveGradientDescent(X=X_padded,y=Y_train.flatten(),alpha=0.1,num_iters=70)"
   ]
  },
  {
   "cell_type": "code",
   "execution_count": null,
   "metadata": {},
   "outputs": [],
   "source": [
    "print('Theta computed from gradient descent: ',theta_GD.T)"
   ]
  }
 ],
 "metadata": {
  "kernelspec": {
   "display_name": "Python 3",
   "language": "python",
   "name": "python3"
  },
  "language_info": {
   "codemirror_mode": {
    "name": "ipython",
    "version": 3
   },
   "file_extension": ".py",
   "mimetype": "text/x-python",
   "name": "python",
   "nbconvert_exporter": "python",
   "pygments_lexer": "ipython3",
   "version": "3.7.1"
  }
 },
 "nbformat": 4,
 "nbformat_minor": 2
}
