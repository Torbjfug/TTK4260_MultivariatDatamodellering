{
 "cells": [
  {
   "cell_type": "code",
   "execution_count": 1,
   "metadata": {},
   "outputs": [],
   "source": [
    "import pickle\n",
    "import pandas as pd\n",
    "import numpy as np"
   ]
  },
  {
   "cell_type": "markdown",
   "metadata": {},
   "source": [
    "## Metadata (column labels, variable blocks, indices, etc)"
   ]
  },
  {
   "cell_type": "code",
   "execution_count": 2,
   "metadata": {},
   "outputs": [],
   "source": [
    "# Information about the blocks of variables\n",
    "blocks = [\n",
    "    \"controller\", \"observer\", \"configuration\", \"t\", \n",
    "    \"eta_des\", \"v_des\", \"q_des\", \"q_dot_des\",\n",
    "    \"eta\", \"v\", \"q\", \"q_dot\", \n",
    "    \"f_thr\", \"f_thr_dot\", \n",
    "    \"e_eta_prev\", \"e_v_prev\", \"e_q_prev\", \"e_q_dot_prev\", \n",
    "    \"e_eta\", \"e_v\", \"e_q\", \"e_q_dot\"]\n",
    "\n",
    "block_sizes = [1, 1, 1, 1, 6, 6, 8, 8, 6, 6, 8, 8, 7, 7, 6, 6, 8, 8, 6, 6, 8, 8]\n",
    "\n",
    "# Make the exact column names with numbered elements (t, eta_des1, eta_des2, ...)\n",
    "columns = [name + str(i+1) if block_sizes[idx] > 1 else name for idx, name in enumerate(blocks) for i in range(block_sizes[idx])]\n",
    "\n",
    "# Load data\n",
    "data = pd.read_pickle(\"../../data/SnakeRobot/data_small.pickle\")\n",
    "    \n",
    "# Indices for each block of variables (for convenience)\n",
    "CONTROLLER      = [0]\n",
    "OBSERVER        = [1]\n",
    "CONFIGURATION   = [2]\n",
    "CATEGORIES      = CONTROLLER + OBSERVER + CONFIGURATION\n",
    "TIME            = [3]\n",
    "\n",
    "ETA_REF         = [4,5,6,7,8,9]\n",
    "VEL_REF         = [10,11,12,13,14,15]\n",
    "Q_REF           = [16,17,18,19,20,21,22,23]\n",
    "QDOT_REF        = [24,25,26,27,28,29,30,31]\n",
    "REFS            = ETA_REF + VEL_REF + Q_REF + QDOT_REF\n",
    "\n",
    "ETA             = [32,33,34,35,36,37]\n",
    "VEL             = [38,39,40,41,42,43]\n",
    "Q               = [44,45,46,47,48,49,50,51]\n",
    "QDOT            = [52,53,54,55,56,57,58,59]\n",
    "STATE           = ETA + VEL + Q + QDOT\n",
    "\n",
    "FTHR            = [60,61,62,63,64,65,66]\n",
    "FDOT            = [67,68,69,70,71,72,73]\n",
    "INPUTS          = FTHR + FDOT\n",
    "\n",
    "E_ETA_PREV      = [74,75,76,77,78,79]\n",
    "E_VEL_PREV      = [80,81,82,83,84,85]\n",
    "E_Q_PREV        = [86,87,88,89,90,91,92,93]\n",
    "E_QDOT_PREV     = [94,95,96,97,98,99,100,101]\n",
    "E_PREV          = E_ETA_PREV + E_VEL_PREV + E_Q_PREV + E_QDOT_PREV\n",
    "\n",
    "E_ETA           = [102,103,104,105,106,107]\n",
    "E_VEL           = [108,109,110,111,112,113]\n",
    "E_Q             = [114,115,116,117,118,119,120,121]\n",
    "E_QDOT          = [122,123,124,125,126,127,128,129]\n",
    "E               = E_ETA + E_VEL + E_Q + E_QDOT"
   ]
  },
  {
   "cell_type": "markdown",
   "metadata": {},
   "source": [
    "## Working with the data"
   ]
  },
  {
   "cell_type": "code",
   "execution_count": 3,
   "metadata": {},
   "outputs": [],
   "source": [
    "# Example: We want to predict control error using data available at runtime.\n",
    "# i.e. Available variables X -> Unknowns Y\n",
    "\n",
    "X = data.iloc[:, REFS+STATE+INPUTS+E_PREV]\n",
    "Y = data.iloc[:,E]\n",
    "\n",
    "# Example: We can try going the other way round, and try to predict the state and inputs based on the error\n",
    "X = data.iloc[:,E]\n",
    "Y = data.iloc[:, STATE+INPUTS]\n",
    "\n",
    "# Example: Classification: predict the snake configuration from the rest of the data\n",
    "X = data.iloc[:,REFS+STATE+INPUTS+E_PREV+E]\n",
    "Y = data.iloc[:,CONFIGURATION]"
   ]
  },
  {
   "cell_type": "code",
   "execution_count": 4,
   "metadata": {},
   "outputs": [
    {
     "data": {
      "text/plain": [
       "(45266, 126)"
      ]
     },
     "execution_count": 4,
     "metadata": {},
     "output_type": "execute_result"
    }
   ],
   "source": [
    "X.shape"
   ]
  },
  {
   "cell_type": "code",
   "execution_count": 5,
   "metadata": {},
   "outputs": [
    {
     "data": {
      "text/plain": [
       "(45266, 1)"
      ]
     },
     "execution_count": 5,
     "metadata": {},
     "output_type": "execute_result"
    }
   ],
   "source": [
    "Y.shape"
   ]
  }
 ],
 "metadata": {
  "kernelspec": {
   "display_name": "Python 3",
   "language": "python",
   "name": "python3"
  },
  "language_info": {
   "codemirror_mode": {
    "name": "ipython",
    "version": 3
   },
   "file_extension": ".py",
   "mimetype": "text/x-python",
   "name": "python",
   "nbconvert_exporter": "python",
   "pygments_lexer": "ipython3",
   "version": "3.7.3"
  }
 },
 "nbformat": 4,
 "nbformat_minor": 2
}
